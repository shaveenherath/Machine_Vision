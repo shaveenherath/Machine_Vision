{
 "cells": [
  {
   "cell_type": "markdown",
   "metadata": {},
   "source": [
    "## EN3160 Assignment 3 on Neural Networks\n",
    "## Index No : 210212N\n",
    "## Name : B.H.M.K.S.B.Herath\n",
    "#### GitHub Link : https://github.com/shaveenherath/Machine_Vision/tree/main/Assignment%203\n"
   ]
  },
  {
   "cell_type": "markdown",
   "metadata": {},
   "source": [
    "1. Listing 1 shows the code for a single dense layer network with manually computed forward path and backpropagations. \n",
    "\n",
    "   Do the following changes:\n",
    "   \n",
    "   - **(a)** Add a middle layer with 100 nodes and a sigmoid activation.\n",
    "   - **(b)** Use cross-entropy loss (see slide 102).\n",
    "   - **(c)** Run the network for 10 epochs and report the training and test accuracies.\n"
   ]
  },
  {
   "cell_type": "markdown",
   "metadata": {},
   "source": [
    "### Network Architecture\n",
    "\n",
    "- **Input Layer**:\n",
    "  - Flattens the 32x32 RGB images into a vector of 3072 values (3 \\* 32 \\* 32).\n",
    "  \n",
    "- **Hidden Layer**:\n",
    "  - Contains 100 neurons with a sigmoid activation function.\n",
    "  - Introduces non-linearity, helping the model learn complex patterns.\n",
    "\n",
    "- **Output Layer**:\n",
    "  - Consists of 10 neurons, one per class, to provide class scores for CIFAR-10 classification.\n"
   ]
  },
  {
   "cell_type": "code",
   "execution_count": 3,
   "metadata": {},
   "outputs": [
    {
     "name": "stdout",
     "output_type": "stream",
     "text": [
      "Downloading https://www.cs.toronto.edu/~kriz/cifar-10-python.tar.gz to ./data\\cifar-10-python.tar.gz\n"
     ]
    },
    {
     "name": "stderr",
     "output_type": "stream",
     "text": [
      "100%|██████████| 170M/170M [05:08<00:00, 553kB/s]  \n"
     ]
    },
    {
     "name": "stdout",
     "output_type": "stream",
     "text": [
      "Extracting ./data\\cifar-10-python.tar.gz to ./data\n",
      "Files already downloaded and verified\n",
      "Epoch [1/10], Loss: 1.8429\n",
      "Epoch [2/10], Loss: 1.6899\n",
      "Epoch [3/10], Loss: 1.6246\n",
      "Epoch [4/10], Loss: 1.5741\n",
      "Epoch [5/10], Loss: 1.5291\n",
      "Epoch [6/10], Loss: 1.4866\n",
      "Epoch [7/10], Loss: 1.4498\n",
      "Epoch [8/10], Loss: 1.4144\n",
      "Epoch [9/10], Loss: 1.3819\n",
      "Epoch [10/10], Loss: 1.3531\n"
     ]
    },
    {
     "data": {
      "image/png": "[encoded data removed]",
      "text/plain": [
       "<Figure size 640x480 with 1 Axes>"
      ]
     },
     "metadata": {},
     "output_type": "display_data"
    },
    {
     "name": "stdout",
     "output_type": "stream",
     "text": [
      "Training accuracy: 54.97%\n",
      "Test accuracy: 48.03%\n"
     ]
    }
   ],
   "source": [
    "import torch\n",
    "import torch.nn as nn\n",
    "import torch.optim as optim\n",
    "import torchvision\n",
    "import torchvision.transforms as transforms\n",
    "import matplotlib.pyplot as plt\n",
    "\n",
    "# 1. Dataloading\n",
    "transform = transforms.Compose([\n",
    "    transforms.ToTensor(),\n",
    "    transforms.Normalize((0.5, 0.5, 0.5), (0.5, 0.5, 0.5))\n",
    "])\n",
    "\n",
    "batch_size = 50\n",
    "trainset = torchvision.datasets.CIFAR10(root='./data', train=True, download=True, transform=transform)\n",
    "trainloader = torch.utils.data.DataLoader(trainset, batch_size=batch_size, shuffle=True, num_workers=2)\n",
    "testset = torchvision.datasets.CIFAR10(root='./data', train=False, download=True, transform=transform)\n",
    "testloader = torch.utils.data.DataLoader(testset, batch_size=batch_size, shuffle=False, num_workers=2)\n",
    "\n",
    "# 2. Define Network with two dense layers\n",
    "class DenseNet(nn.Module):\n",
    "    def __init__(self):\n",
    "        super(DenseNet, self).__init__()\n",
    "        self.fc1 = nn.Linear(3 * 32 * 32, 100)\n",
    "        self.fc2 = nn.Linear(100, 10)\n",
    "        self.sigmoid = nn.Sigmoid()\n",
    "    \n",
    "    def forward(self, x):\n",
    "        x = x.view(-1, 3 * 32 * 32)  # Flatten input\n",
    "        x = self.sigmoid(self.fc1(x))\n",
    "        x = self.fc2(x)\n",
    "        return x\n",
    "\n",
    "net = DenseNet()\n",
    "\n",
    "# 3. Loss and Optimizer\n",
    "criterion = nn.CrossEntropyLoss()\n",
    "optimizer = optim.SGD(net.parameters(), lr=0.01, momentum=0.9)\n",
    "\n",
    "# 4. Training the network\n",
    "num_epochs = 10\n",
    "loss_history = []\n",
    "\n",
    "for epoch in range(num_epochs):\n",
    "    running_loss = 0.0\n",
    "    for i, data in enumerate(trainloader, 0):\n",
    "        inputs, labels = data\n",
    "\n",
    "        # Zero the parameter gradients\n",
    "        optimizer.zero_grad()\n",
    "\n",
    "        # Forward pass\n",
    "        outputs = net(inputs)\n",
    "        loss = criterion(outputs, labels)\n",
    "        \n",
    "        # Backward pass and optimize\n",
    "        loss.backward()\n",
    "        optimizer.step()\n",
    "\n",
    "        running_loss += loss.item()\n",
    "    \n",
    "    loss_history.append(running_loss / len(trainloader))\n",
    "    print(f\"Epoch [{epoch + 1}/{num_epochs}], Loss: {running_loss / len(trainloader):.4f}\")\n",
    "\n",
    "# 5. Plotting the Loss History\n",
    "plt.plot(loss_history)\n",
    "plt.title(\"Loss History\")\n",
    "plt.xlabel(\"Epoch\")\n",
    "plt.ylabel(\"Loss\")\n",
    "plt.show()\n",
    "\n",
    "# 6. Calculate Training Accuracy\n",
    "correct_train = 0\n",
    "total_train = 0\n",
    "with torch.no_grad():\n",
    "    for data in trainloader:\n",
    "        inputs, labels = data\n",
    "        outputs = net(inputs)\n",
    "        _, predicted = torch.max(outputs, 1)\n",
    "        total_train += labels.size(0)\n",
    "        correct_train += (predicted == labels).sum().item()\n",
    "train_acc = 100 * correct_train / total_train\n",
    "print(f\"Training accuracy: {train_acc:.2f}%\")\n",
    "\n",
    "# 7. Calculate Test Accuracy\n",
    "correct_test = 0\n",
    "total_test = 0\n",
    "with torch.no_grad():\n",
    "    for data in testloader:\n",
    "        inputs, labels = data\n",
    "        outputs = net(inputs)\n",
    "        _, predicted = torch.max(outputs, 1)\n",
    "        total_test += labels.size(0)\n",
    "        correct_test += (predicted == labels).sum().item()\n",
    "test_acc = 100 * correct_test / total_test\n",
    "print(f\"Test accuracy: {test_acc:.2f}%\")\n"
   ]
  },
  {
   "cell_type": "markdown",
   "metadata": {},
   "source": [
    "# Q2. "
   ]
  },
  {
   "cell_type": "markdown",
   "metadata": {},
   "source": [
    "2. Create a LeNet-5 network for MNIST using Pytorch. Report the training and test accuracies after 10 epochs."
   ]
  },
  {
   "cell_type": "markdown",
   "metadata": {},
   "source": [
    "#### Define Data Transform and Loaders"
   ]
  },
  {
   "cell_type": "code",
   "execution_count": null,
   "metadata": {},
   "outputs": [],
   "source": [
    "transform = transforms.Compose([\n",
    "    transforms.ToTensor(),\n",
    "    transforms.Normalize((0.5,), (0.5,))\n",
    "])\n",
    "\n",
    "trainset = torchvision.datasets.MNIST(root='./data', train=True, download=True, transform=transform)\n",
    "trainloader = torch.utils.data.DataLoader(trainset, batch_size=64, shuffle=True)\n",
    "\n",
    "testset = torchvision.datasets.MNIST(root='./data', train=False, download=True, transform=transform)\n",
    "testloader = torch.utils.data.DataLoader(testset, batch_size=64, shuffle=False)\n"
   ]
  },
  {
   "cell_type": "markdown",
   "metadata": {},
   "source": [
    "###  Define the LeNet-5 Network\n",
    "\n",
    "#### Input Layer:\n",
    "- **Input Dimensions**: 1x28x28 (grayscale MNIST images)\n",
    "- **Operation**: Each image is passed through the convolutional layers.\n",
    "\n",
    "#### Convolutional and Pooling Layers:\n",
    "- **Conv Layer 1**: 6 filters, kernel size 5x5, stride 1\n",
    "  - **Output size**: 6x24x24 (after applying 5x5 convolution on 28x28 input)\n",
    "- **Pooling Layer 1**: 2x2 max pooling with stride 2\n",
    "  - **Output size**: 6x12x12\n",
    "- **Conv Layer 2**: 16 filters, kernel size 5x5, stride 1\n",
    "  - **Output size**: 16x8x8\n",
    "- **Pooling Layer 2**: 2x2 max pooling with stride 2\n",
    "  - **Output size**: 16x4x4\n",
    "\n",
    "#### Flatten Layer:\n",
    "- **Input to Fully Connected Layers**: The 3D output from the final pooling layer (16x4x4) is flattened to a 1D vector of 256 values (16 * 4 * 4 = 256).\n",
    "\n",
    "#### Fully Connected (Hidden) Layers:\n",
    "- **Fully Connected Layer 1**: 120 neurons\n",
    "  - Receives the 256-dimensional flattened vector and produces an output of 120 features.\n",
    "- **Fully Connected Layer 2**: 84 neurons\n",
    "  - Takes the 120-dimensional input and reduces it to 84 features.\n",
    "\n",
    "#### Output Layer:\n",
    "- **Fully Connected Layer 3 (Output)**: 10 neurons (one per class for MNIST)\n",
    "  - Provides the final output scores for the 10 MNIST classes.\n"
   ]
  },
  {
   "cell_type": "code",
   "execution_count": 4,
   "metadata": {},
   "outputs": [],
   "source": [
    "class LeNet5(nn.Module):\n",
    "    def __init__(self):\n",
    "        super(LeNet5, self).__init__()\n",
    "        self.conv1 = nn.Conv2d(1, 6, kernel_size=5)\n",
    "        self.pool = nn.MaxPool2d(kernel_size=2, stride=2)\n",
    "        self.conv2 = nn.Conv2d(6, 16, kernel_size=5)\n",
    "        self.fc1 = nn.Linear(16 * 4 * 4, 120)\n",
    "        self.fc2 = nn.Linear(120, 84)\n",
    "        self.fc3 = nn.Linear(84, 10)\n",
    "\n",
    "    def forward(self, x):\n",
    "        x = self.pool(torch.relu(self.conv1(x)))\n",
    "        x = self.pool(torch.relu(self.conv2(x)))\n",
    "        x = x.view(-1, 16 * 4 * 4)\n",
    "        x = torch.relu(self.fc1(x))\n",
    "        x = torch.relu(self.fc2(x))\n",
    "        x = self.fc3(x)\n",
    "        return x\n",
    "\n",
    "net = LeNet5()"
   ]
  },
  {
   "cell_type": "markdown",
   "metadata": {},
   "source": [
    "Define Loss Function and Optimizer"
   ]
  },
  {
   "cell_type": "code",
   "execution_count": 6,
   "metadata": {},
   "outputs": [],
   "source": [
    "criterion = nn.CrossEntropyLoss()\n",
    "optimizer = optim.Adam(net.parameters(), lr=0.001)\n"
   ]
  },
  {
   "cell_type": "markdown",
   "metadata": {},
   "source": [
    "Training Loop"
   ]
  },
  {
   "cell_type": "code",
   "execution_count": 7,
   "metadata": {},
   "outputs": [
    {
     "name": "stdout",
     "output_type": "stream",
     "text": [
      "Epoch 1, Loss: 0.23532369187218882\n",
      "Epoch 2, Loss: 0.06386580101838872\n",
      "Epoch 3, Loss: 0.04657232290881473\n",
      "Epoch 4, Loss: 0.03654000112903677\n",
      "Epoch 5, Loss: 0.031129568397569637\n",
      "Epoch 6, Loss: 0.026839938895307235\n",
      "Epoch 7, Loss: 0.021913341775456237\n",
      "Epoch 8, Loss: 0.020185577977563318\n",
      "Epoch 9, Loss: 0.016372552124862143\n",
      "Epoch 10, Loss: 0.015238860584594262\n"
     ]
    }
   ],
   "source": [
    "lossHistory = []\n",
    "for epoch in range(10):\n",
    "    running_loss = 0.0\n",
    "    for i, data in enumerate(trainloader, 0):\n",
    "        inputs, labels = data\n",
    "        optimizer.zero_grad()\n",
    "        outputs = net(inputs)\n",
    "        loss = criterion(outputs, labels)\n",
    "        loss.backward()\n",
    "        optimizer.step()\n",
    "        running_loss += loss.item()\n",
    "    print(f\"Epoch {epoch+1}, Loss: {running_loss / len(trainloader)}\")\n",
    "    lossHistory.append(running_loss / len(trainloader))\n"
   ]
  },
  {
   "cell_type": "markdown",
   "metadata": {},
   "source": [
    "Calculate Accuracy"
   ]
  },
  {
   "cell_type": "code",
   "execution_count": 8,
   "metadata": {},
   "outputs": [
    {
     "name": "stdout",
     "output_type": "stream",
     "text": [
      "Training Accuracy: 99.50833333333334%\n",
      "Test Accuracy: 98.89%\n"
     ]
    }
   ],
   "source": [
    "def calculate_accuracy(loader, model):\n",
    "    correct = 0\n",
    "    total = 0\n",
    "    with torch.no_grad():\n",
    "        for data in loader:\n",
    "            inputs, labels = data\n",
    "            outputs = model(inputs)\n",
    "            _, predicted = torch.max(outputs, 1)\n",
    "            total += labels.size(0)\n",
    "            correct += (predicted == labels).sum().item()\n",
    "    return 100 * correct / total\n",
    "\n",
    "print(f\"Training Accuracy: {calculate_accuracy(trainloader, net)}%\")\n",
    "print(f\"Test Accuracy: {calculate_accuracy(testloader, net)}%\")\n"
   ]
  },
  {
   "cell_type": "markdown",
   "metadata": {},
   "source": [
    "Plot Training Loss"
   ]
  },
  {
   "cell_type": "code",
   "execution_count": 9,
   "metadata": {},
   "outputs": [
    {
     "data": {
      "image/png": "[encoded data removed]",
      "text/plain": [
       "<Figure size 640x480 with 1 Axes>"
      ]
     },
     "metadata": {},
     "output_type": "display_data"
    }
   ],
   "source": [
    "plt.plot(lossHistory)\n",
    "plt.xlabel(\"Epoch\")\n",
    "plt.ylabel(\"Loss\")\n",
    "plt.title(\"Training Loss\")\n",
    "plt.show()\n"
   ]
  },
  {
   "cell_type": "markdown",
   "metadata": {},
   "source": [
    "### Q3.\n"
   ]
  },
  {
   "cell_type": "markdown",
   "metadata": {},
   "source": [
    "### 3. Based on the PyTorch tutorial on transfer learning, get the pre-trained ResNet18 network trained on ImageNet1K to classify the Hymenoptera dataset by:\n",
    "- (a) Fine-tuning the model\n",
    "- (b) Using the network as a feature extractor\n",
    "\n",
    "Report the results.\n"
   ]
  },
  {
   "cell_type": "markdown",
   "metadata": {},
   "source": [
    "### 1. Download and Extract the Hymenoptera Dataset\n"
   ]
  },
  {
   "cell_type": "code",
   "execution_count": 10,
   "metadata": {},
   "outputs": [
    {
     "name": "stdout",
     "output_type": "stream",
     "text": [
      "Downloading https://download.pytorch.org/tutorial/hymenoptera_data.zip to data_3\\hymenoptera_data.zip\n"
     ]
    },
    {
     "name": "stderr",
     "output_type": "stream",
     "text": [
      "100%|██████████| 47.3M/47.3M [03:21<00:00, 235kB/s] \n"
     ]
    },
    {
     "name": "stdout",
     "output_type": "stream",
     "text": [
      "Extracting data_3\\hymenoptera_data.zip to data_3\n"
     ]
    }
   ],
   "source": [
    "url = \"https://download.pytorch.org/tutorial/hymenoptera_data.zip\"\n",
    "data_dir = \"data_3/hymenoptera_data\"  # Target directory for dataset\n",
    "\n",
    "# Download and extract the dataset\n",
    "download_and_extract_archive(url, download_root='data_3', extract_root='data_3', filename='hymenoptera_data.zip')\n"
   ]
  },
  {
   "cell_type": "markdown",
   "metadata": {},
   "source": [
    "### 2. Data Preprocessing and Dataloaders\n"
   ]
  },
  {
   "cell_type": "code",
   "execution_count": 12,
   "metadata": {},
   "outputs": [],
   "source": [
    "data_transforms = {\n",
    "    'train': transforms.Compose([\n",
    "        transforms.RandomResizedCrop(224),\n",
    "        transforms.RandomHorizontalFlip(),\n",
    "        transforms.ToTensor(),\n",
    "        transforms.Normalize([0.485, 0.456, 0.406], [0.229, 0.224, 0.225])\n",
    "    ]),\n",
    "    'val': transforms.Compose([\n",
    "        transforms.Resize(256),\n",
    "        transforms.CenterCrop(224),\n",
    "        transforms.ToTensor(),\n",
    "        transforms.Normalize([0.485, 0.456, 0.406], [0.229, 0.224, 0.225])\n",
    "    ]),\n",
    "}\n",
    "\n",
    "image_datasets = {x: datasets.ImageFolder(os.path.join(data_dir, x), data_transforms[x]) for x in ['train', 'val']}\n",
    "dataloaders = {x: torch.utils.data.DataLoader(image_datasets[x], batch_size=4, shuffle=True, num_workers=4) for x in ['train', 'val']}\n",
    "dataset_sizes = {x: len(image_datasets[x]) for x in ['train', 'val']}\n",
    "class_names = image_datasets['train'].classes\n",
    "\n",
    "device = torch.device(\"cuda:0\" if torch.cuda.is_available() else \"cpu\")\n"
   ]
  },
  {
   "cell_type": "markdown",
   "metadata": {},
   "source": [
    "### 3. Fine-Tuning the ResNet18 Model\n"
   ]
  },
  {
   "cell_type": "code",
   "execution_count": 13,
   "metadata": {},
   "outputs": [
    {
     "name": "stderr",
     "output_type": "stream",
     "text": [
      "c:\\Python312\\cv\\Lib\\site-packages\\torchvision\\models\\_utils.py:208: UserWarning: The parameter 'pretrained' is deprecated since 0.13 and may be removed in the future, please use 'weights' instead.\n",
      "  warnings.warn(\n",
      "c:\\Python312\\cv\\Lib\\site-packages\\torchvision\\models\\_utils.py:223: UserWarning: Arguments other than a weight enum or `None` for 'weights' are deprecated since 0.13 and may be removed in the future. The current behavior is equivalent to passing `weights=ResNet18_Weights.IMAGENET1K_V1`. You can also use `weights=ResNet18_Weights.DEFAULT` to get the most up-to-date weights.\n",
      "  warnings.warn(msg)\n",
      "Downloading: \"https://download.pytorch.org/models/resnet18-f37072fd.pth\" to C:\\Users\\Dell/.cache\\torch\\hub\\checkpoints\\resnet18-f37072fd.pth\n",
      "100%|██████████| 44.7M/44.7M [03:36<00:00, 216kB/s] \n"
     ]
    }
   ],
   "source": [
    "# Load pretrained model\n",
    "model_ft = models.resnet18(pretrained=True)\n",
    "\n",
    "# Modify the final layer to match the number of classes\n",
    "num_ftrs = model_ft.fc.in_features\n",
    "model_ft.fc = nn.Linear(num_ftrs, len(class_names))\n",
    "\n",
    "model_ft = model_ft.to(device)\n",
    "\n",
    "# Define loss and optimizer\n",
    "criterion = nn.CrossEntropyLoss()\n",
    "optimizer_ft = optim.SGD(model_ft.parameters(), lr=0.001, momentum=0.9)\n",
    "\n",
    "# Learning rate scheduler\n",
    "from torch.optim import lr_scheduler\n",
    "exp_lr_scheduler = lr_scheduler.StepLR(optimizer_ft, step_size=7, gamma=0.1)\n"
   ]
  },
  {
   "cell_type": "markdown",
   "metadata": {},
   "source": [
    "### 4. Train the Fine-Tuned Model\n"
   ]
  },
  {
   "cell_type": "code",
   "execution_count": 14,
   "metadata": {},
   "outputs": [
    {
     "name": "stdout",
     "output_type": "stream",
     "text": [
      "Epoch 0/9\n",
      "----------\n",
      "train Loss: 0.6023 Acc: 0.6844\n",
      "val Loss: 0.2847 Acc: 0.8758\n",
      "\n",
      "Epoch 1/9\n",
      "----------\n",
      "train Loss: 0.5758 Acc: 0.7828\n",
      "val Loss: 0.1862 Acc: 0.9216\n",
      "\n",
      "Epoch 2/9\n",
      "----------\n",
      "train Loss: 0.4401 Acc: 0.8074\n",
      "val Loss: 0.3240 Acc: 0.8693\n",
      "\n",
      "Epoch 3/9\n",
      "----------\n",
      "train Loss: 0.5808 Acc: 0.8320\n",
      "val Loss: 0.2213 Acc: 0.9150\n",
      "\n",
      "Epoch 4/9\n",
      "----------\n",
      "train Loss: 0.5342 Acc: 0.7664\n",
      "val Loss: 0.2323 Acc: 0.9216\n",
      "\n",
      "Epoch 5/9\n",
      "----------\n",
      "train Loss: 0.5811 Acc: 0.7705\n",
      "val Loss: 0.3189 Acc: 0.8627\n",
      "\n",
      "Epoch 6/9\n",
      "----------\n",
      "train Loss: 0.5221 Acc: 0.8197\n",
      "val Loss: 0.1421 Acc: 0.9346\n",
      "\n",
      "Epoch 7/9\n",
      "----------\n",
      "train Loss: 0.3665 Acc: 0.8443\n",
      "val Loss: 0.1442 Acc: 0.9346\n",
      "\n",
      "Epoch 8/9\n",
      "----------\n",
      "train Loss: 0.2975 Acc: 0.8525\n",
      "val Loss: 0.1840 Acc: 0.9150\n",
      "\n",
      "Epoch 9/9\n",
      "----------\n",
      "train Loss: 0.3185 Acc: 0.8607\n",
      "val Loss: 0.1491 Acc: 0.9477\n",
      "\n",
      "Training complete in 7m 5s\n",
      "Best val Acc: 0.9477\n"
     ]
    }
   ],
   "source": [
    "def train_model(model, criterion, optimizer, scheduler, num_epochs=25):\n",
    "    since = time.time()\n",
    "    best_model_wts = copy.deepcopy(model.state_dict())\n",
    "    best_acc = 0.0\n",
    "\n",
    "    for epoch in range(num_epochs):\n",
    "        print(f'Epoch {epoch}/{num_epochs - 1}')\n",
    "        print('-' * 10)\n",
    "\n",
    "        # Each epoch has a training and validation phase\n",
    "        for phase in ['train', 'val']:\n",
    "            if phase == 'train':\n",
    "                model.train()  # Set model to training mode\n",
    "            else:\n",
    "                model.eval()   # Set model to evaluate mode\n",
    "\n",
    "            running_loss = 0.0\n",
    "            running_corrects = 0\n",
    "\n",
    "            # Iterate over data.\n",
    "            for inputs, labels in dataloaders[phase]:\n",
    "                inputs = inputs.to(device)\n",
    "                labels = labels.to(device)\n",
    "\n",
    "                # Zero the parameter gradients\n",
    "                optimizer.zero_grad()\n",
    "\n",
    "                # Forward pass\n",
    "                with torch.set_grad_enabled(phase == 'train'):\n",
    "                    outputs = model(inputs)\n",
    "                    _, preds = torch.max(outputs, 1)\n",
    "                    loss = criterion(outputs, labels)\n",
    "\n",
    "                    # Backward pass + optimize only in training phase\n",
    "                    if phase == 'train':\n",
    "                        loss.backward()\n",
    "                        optimizer.step()\n",
    "\n",
    "                # Statistics\n",
    "                running_loss += loss.item() * inputs.size(0)\n",
    "                running_corrects += torch.sum(preds == labels.data)\n",
    "\n",
    "            if phase == 'train':\n",
    "                scheduler.step()\n",
    "\n",
    "            epoch_loss = running_loss / dataset_sizes[phase]\n",
    "            epoch_acc = running_corrects.double() / dataset_sizes[phase]\n",
    "\n",
    "            print(f'{phase} Loss: {epoch_loss:.4f} Acc: {epoch_acc:.4f}')\n",
    "\n",
    "            # Deep copy the model\n",
    "            if phase == 'val' and epoch_acc > best_acc:\n",
    "                best_acc = epoch_acc\n",
    "                best_model_wts = copy.deepcopy(model.state_dict())\n",
    "\n",
    "        print()\n",
    "\n",
    "    time_elapsed = time.time() - since\n",
    "    print(f'Training complete in {time_elapsed // 60:.0f}m {time_elapsed % 60:.0f}s')\n",
    "    print(f'Best val Acc: {best_acc:.4f}')\n",
    "\n",
    "    # Load best model weights\n",
    "    model.load_state_dict(best_model_wts)\n",
    "    return model\n",
    "\n",
    "# Train the fine-tuned model\n",
    "model_ft = train_model(model_ft, criterion, optimizer_ft, exp_lr_scheduler, num_epochs=10)\n"
   ]
  },
  {
   "cell_type": "markdown",
   "metadata": {},
   "source": [
    "### 5. Feature Extraction Using Pretrained Model\n"
   ]
  },
  {
   "cell_type": "code",
   "execution_count": 15,
   "metadata": {},
   "outputs": [
    {
     "name": "stdout",
     "output_type": "stream",
     "text": [
      "Epoch 0/9\n",
      "----------\n",
      "train Loss: 0.6306 Acc: 0.6762\n",
      "val Loss: 0.3093 Acc: 0.8627\n",
      "\n",
      "Epoch 1/9\n",
      "----------\n",
      "train Loss: 0.6121 Acc: 0.7254\n",
      "val Loss: 0.3536 Acc: 0.8366\n",
      "\n",
      "Epoch 2/9\n",
      "----------\n",
      "train Loss: 0.4743 Acc: 0.8156\n",
      "val Loss: 0.2327 Acc: 0.9020\n",
      "\n",
      "Epoch 3/9\n",
      "----------\n",
      "train Loss: 0.3658 Acc: 0.8238\n",
      "val Loss: 0.1948 Acc: 0.9477\n",
      "\n",
      "Epoch 4/9\n",
      "----------\n",
      "train Loss: 0.3878 Acc: 0.8402\n",
      "val Loss: 0.2167 Acc: 0.9216\n",
      "\n",
      "Epoch 5/9\n",
      "----------\n",
      "train Loss: 0.3488 Acc: 0.8238\n",
      "val Loss: 0.1836 Acc: 0.9412\n",
      "\n",
      "Epoch 6/9\n",
      "----------\n",
      "train Loss: 0.3695 Acc: 0.8484\n",
      "val Loss: 0.2048 Acc: 0.9346\n",
      "\n",
      "Epoch 7/9\n",
      "----------\n",
      "train Loss: 0.4782 Acc: 0.7992\n",
      "val Loss: 0.1837 Acc: 0.9281\n",
      "\n",
      "Epoch 8/9\n",
      "----------\n",
      "train Loss: 0.4162 Acc: 0.8197\n",
      "val Loss: 0.1857 Acc: 0.9542\n",
      "\n",
      "Epoch 9/9\n",
      "----------\n",
      "train Loss: 0.5264 Acc: 0.7951\n",
      "val Loss: 0.4089 Acc: 0.8627\n",
      "\n",
      "Training complete in 4m 57s\n",
      "Best val Acc: 0.9542\n"
     ]
    }
   ],
   "source": [
    "# Load pretrained model\n",
    "model_conv = models.resnet18(pretrained=True)\n",
    "for param in model_conv.parameters():\n",
    "    param.requires_grad = False\n",
    "\n",
    "# Replace the final layer\n",
    "num_ftrs = model_conv.fc.in_features\n",
    "model_conv.fc = nn.Linear(num_ftrs, len(class_names))\n",
    "model_conv = model_conv.to(device)\n",
    "\n",
    "# Define loss and optimizer\n",
    "criterion = nn.CrossEntropyLoss()\n",
    "optimizer_conv = optim.SGD(model_conv.fc.parameters(), lr=0.001, momentum=0.9)\n",
    "\n",
    "# Train the feature extractor\n",
    "model_conv = train_model(model_conv, criterion, optimizer_conv, exp_lr_scheduler, num_epochs=10)\n"
   ]
  },
  {
   "cell_type": "markdown",
   "metadata": {},
   "source": [
    "### 6. Evaluate and Report Results\n"
   ]
  },
  {
   "cell_type": "code",
   "execution_count": 16,
   "metadata": {},
   "outputs": [
    {
     "name": "stdout",
     "output_type": "stream",
     "text": [
      "Fine-tuned Model Results:\n",
      "val Accuracy: 0.9477\n",
      "\n",
      "Feature Extractor Model Results:\n",
      "val Accuracy: 0.9542\n"
     ]
    }
   ],
   "source": [
    "# Evaluate the fine-tuned model\n",
    "def evaluate_model(model, dataloaders, phase='val'):\n",
    "    model.eval()\n",
    "    corrects = 0\n",
    "    with torch.no_grad():\n",
    "        for inputs, labels in dataloaders[phase]:\n",
    "            inputs = inputs.to(device)\n",
    "            labels = labels.to(device)\n",
    "            outputs = model(inputs)\n",
    "            _, preds = torch.max(outputs, 1)\n",
    "            corrects += torch.sum(preds == labels.data)\n",
    "    accuracy = corrects.double() / dataset_sizes[phase]\n",
    "    print(f'{phase} Accuracy: {accuracy:.4f}')\n",
    "\n",
    "print(\"Fine-tuned Model Results:\")\n",
    "evaluate_model(model_ft, dataloaders)\n",
    "\n",
    "print(\"\\nFeature Extractor Model Results:\")\n",
    "evaluate_model(model_conv, dataloaders)\n"
   ]
  },
  {
   "cell_type": "markdown",
   "metadata": {},
   "source": [
    "\n",
    "- **Fine-tuned Model** achieved **94.77%** validation accuracy, where all layers of ResNet18 were updated during training.\n",
    "- **Feature Extractor Model** achieved **95.42%** validation accuracy, where only the final fully connected layers were trained, and the rest of the model’s weights were frozen.\n",
    "\n",
    "\n",
    "- **Feature extraction** slightly outperformed fine-tuning in this case, showing better performance and being more efficient for smaller datasets like Hymenoptera, as it avoids overfitting and leverages pre-trained features effectively.\n"
   ]
  }
 ],
 "metadata": {
  "kernelspec": {
   "display_name": "Python 3",
   "language": "python",
   "name": "python3"
  },
  "language_info": {
   "codemirror_mode": {
    "name": "ipython",
    "version": 3
   },
   "file_extension": ".py",
   "mimetype": "text/x-python",
   "name": "python",
   "nbconvert_exporter": "python",
   "pygments_lexer": "ipython3",
   "version": "3.12.5"
  }
 },
 "nbformat": 4,
 "nbformat_minor": 2
}
